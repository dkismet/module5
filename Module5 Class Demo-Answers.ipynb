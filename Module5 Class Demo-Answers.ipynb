{
 "cells": [
  {
   "cell_type": "markdown",
   "metadata": {},
   "source": [
    "### Exercise 1\n",
    "Create an empty dictionary named book. Then, store information about a book’s title, authors, genre and ISBN. Print out the dictionary"
   ]
  },
  {
   "cell_type": "code",
   "execution_count": null,
   "metadata": {},
   "outputs": [],
   "source": [
    "book = {}\n",
    "book[\"title\"] = \"Murach's Python Programming\"\n",
    "book[\"authors\"] = [\"Michael Urban\", \"Joel Murach\"]\n",
    "book[\"genre\"] = \"tech\"\n",
    "book[\"ISBN\"] = \"9781890774974\"\n",
    "print(book)"
   ]
  },
  {
   "cell_type": "code",
   "execution_count": null,
   "metadata": {},
   "outputs": [],
   "source": [
    "print(f\"Title: \\t\\t{book['title']}\")\n",
    "print(f\"authors: \\t{book['authors']}\")\n",
    "print(f\"genre: \\t\\t{book['genre']}\")\n",
    "print(f\"ISBN: \\t\\t{book['ISBN']}\")\n"
   ]
  },
  {
   "cell_type": "markdown",
   "metadata": {},
   "source": [
    "### Exercise 2\n",
    "Create a dictionary to store information about a book: book’s title, author, genre and ISBN. \n",
    "Then, print out each item in the dictionary using a loop.\n",
    "(You can use your code from exercise 1)\n"
   ]
  },
  {
   "cell_type": "code",
   "execution_count": null,
   "metadata": {},
   "outputs": [],
   "source": [
    "# Create a dictionary to store information about a book:title, author, genre and ISBN\n",
    "book = {}\n",
    "book[\"title\"] = \"Murach's Python Programming\"\n",
    "book[\"authors\"] = [\"Michael Urban\", \"Joel Murach\"]\n",
    "book[\"genre\"] = \"tech\"\n",
    "book[\"ISBN\"] = \"9781890774974\"\n",
    "print(book)\n",
    "\n",
    "# Then, print out each item in the dictionary using a loop\n",
    "for key in book :\n",
    "    val = book[key]\n",
    "    print(f\"{key}\\t:\\t{val}\")"
   ]
  },
  {
   "cell_type": "markdown",
   "metadata": {},
   "source": [
    "### Exercise 3\n",
    "Create a program to ask several people for their name and their favorite drink. \n",
    "Then, summarize your finding.\n",
    "Fix errors and run to show it works.\n"
   ]
  },
  {
   "cell_type": "code",
   "execution_count": null,
   "metadata": {},
   "outputs": [],
   "source": [
    "# fix errors\n",
    "\n",
    "survey = {}\n",
    "\n",
    "# loop to ask for name and favorite drink\n",
    "answer = \"\"\n",
    "while answer != 'n' :\n",
    "    name = input(\"What's your name? \")\n",
    "    survey[name] = input(\"What's your favorite drink? \")\n",
    "    \n",
    "    answer = input(\"Would you like to continue? (y/n)\")\n",
    "\n",
    "\n",
    "# calculate the total number of each drinks\n",
    "result = {}\n",
    "\n",
    "for item in survey.values() :               \n",
    "    if item in result :\n",
    "        result[item] += 1\n",
    "    else :  \n",
    "        result[item] = 1\n",
    "        \n",
    "# print the result\n",
    "print(result)\n",
    "\n"
   ]
  },
  {
   "cell_type": "code",
   "execution_count": null,
   "metadata": {},
   "outputs": [],
   "source": [
    "result = {}\n",
    "\n",
    "for item in survey.values() :               \n",
    "    if item in result :\n",
    "        result[item] += 1\n",
    "    else :  \n",
    "        result[item] = 1\n",
    "        \n",
    "# print the result\n",
    "print(result)"
   ]
  },
  {
   "cell_type": "code",
   "execution_count": null,
   "metadata": {},
   "outputs": [],
   "source": []
  }
 ],
 "metadata": {
  "kernelspec": {
   "display_name": "Python 3 (ipykernel)",
   "language": "python",
   "name": "python3"
  },
  "language_info": {
   "codemirror_mode": {
    "name": "ipython",
    "version": 3
   },
   "file_extension": ".py",
   "mimetype": "text/x-python",
   "name": "python",
   "nbconvert_exporter": "python",
   "pygments_lexer": "ipython3",
   "version": "3.9.7"
  }
 },
 "nbformat": 4,
 "nbformat_minor": 2
}
